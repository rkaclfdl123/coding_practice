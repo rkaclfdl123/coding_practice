{
  "nbformat": 4,
  "nbformat_minor": 0,
  "metadata": {
    "colab": {
      "name": "이상한문자 만들기.ipynb",
      "provenance": [],
      "authorship_tag": "ABX9TyMdhDGg8XVkAo6+sxTGkJiM",
      "include_colab_link": true
    },
    "kernelspec": {
      "name": "python3",
      "display_name": "Python 3"
    },
    "language_info": {
      "name": "python"
    }
  },
  "cells": [
    {
      "cell_type": "markdown",
      "metadata": {
        "id": "view-in-github",
        "colab_type": "text"
      },
      "source": [
        "<a href=\"https://colab.research.google.com/github/rkaclfdl123/coding_practice/blob/main/%EC%9D%B4%EC%83%81%ED%95%9C%EB%AC%B8%EC%9E%90_%EB%A7%8C%EB%93%A4%EA%B8%B0.ipynb\" target=\"_parent\"><img src=\"https://colab.research.google.com/assets/colab-badge.svg\" alt=\"Open In Colab\"/></a>"
      ]
    },
    {
      "cell_type": "code",
      "execution_count": null,
      "metadata": {
        "id": "0T12HdDA7rxL"
      },
      "outputs": [],
      "source": [
        "#내 코드\n",
        "def solution(s):\n",
        "    s=s.split(\" \")\n",
        "    new_s=\"\"\n",
        "    for a in s:\n",
        "        for i in range(len(a)):\n",
        "            if i%2==0:\n",
        "                new_s+=(a[i].upper())\n",
        "            elif i%2==1:\n",
        "                new_s+=(a[i].lower())\n",
        "        new_s+=\" \"\n",
        "    return new_s[:-1]"
      ]
    },
    {
      "cell_type": "code",
      "source": [
        "#다른사람 코드\n",
        "def toWeirdCase(s):\n",
        "    return \" \".join(map(lambda x: \"\".join([a.lower() if i % 2 else a.upper() for i, a in enumerate(x)]), s.split(\" \")))"
      ],
      "metadata": {
        "id": "6efvt0478wMa"
      },
      "execution_count": null,
      "outputs": []
    },
    {
      "cell_type": "code",
      "source": [
        ""
      ],
      "metadata": {
        "id": "wgJp06lF8yOr"
      },
      "execution_count": null,
      "outputs": []
    }
  ]
}