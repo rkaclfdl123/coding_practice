{
  "nbformat": 4,
  "nbformat_minor": 0,
  "metadata": {
    "colab": {
      "name": "N개의 최소공배수.ipynb",
      "provenance": [],
      "authorship_tag": "ABX9TyPtAGRwJzVWNRG+RAXIRdxO",
      "include_colab_link": true
    },
    "kernelspec": {
      "name": "python3",
      "display_name": "Python 3"
    },
    "language_info": {
      "name": "python"
    }
  },
  "cells": [
    {
      "cell_type": "markdown",
      "metadata": {
        "id": "view-in-github",
        "colab_type": "text"
      },
      "source": [
        "<a href=\"https://colab.research.google.com/github/rkaclfdl123/coding_practice/blob/main/N%EA%B0%9C%EC%9D%98_%EC%B5%9C%EC%86%8C%EA%B3%B5%EB%B0%B0%EC%88%98.ipynb\" target=\"_parent\"><img src=\"https://colab.research.google.com/assets/colab-badge.svg\" alt=\"Open In Colab\"/></a>"
      ]
    },
    {
      "cell_type": "code",
      "execution_count": null,
      "metadata": {
        "id": "c8qR5moePKB9"
      },
      "outputs": [],
      "source": [
        "#내 코드\n",
        "def solution(arr):\n",
        "    def lcm(x,y):\n",
        "        return x*y//gcd(x,y)\n",
        "    from math import gcd\n",
        "    for i in range(len(arr)-1):\n",
        "        arr[i+1]=lcm(arr[i],arr[i+1])\n",
        "    return(arr[-1])"
      ]
    },
    {
      "cell_type": "code",
      "source": [
        "# 알게 된 것\n",
        "# from math import gcd\n",
        "# gcd(x,y)는 최대공약수\n",
        "# lcm이 최소공배수인데 라이브러리 없어서 만들어야함\n",
        "# def lcm(x,y):\n",
        "#   return x*y//gcd(x,y) "
      ],
      "metadata": {
        "id": "VN2jHLjuPPyT"
      },
      "execution_count": null,
      "outputs": []
    }
  ]
}