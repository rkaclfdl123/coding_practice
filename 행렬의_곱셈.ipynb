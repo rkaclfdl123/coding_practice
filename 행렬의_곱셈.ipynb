{
  "nbformat": 4,
  "nbformat_minor": 0,
  "metadata": {
    "colab": {
      "name": "행렬의 곱셈.ipynb",
      "provenance": [],
      "authorship_tag": "ABX9TyP7DiqAuKOK88S7EmNbeBCb",
      "include_colab_link": true
    },
    "kernelspec": {
      "name": "python3",
      "display_name": "Python 3"
    },
    "language_info": {
      "name": "python"
    }
  },
  "cells": [
    {
      "cell_type": "markdown",
      "metadata": {
        "id": "view-in-github",
        "colab_type": "text"
      },
      "source": [
        "<a href=\"https://colab.research.google.com/github/rkaclfdl123/coding_practice/blob/main/%ED%96%89%EB%A0%AC%EC%9D%98_%EA%B3%B1%EC%85%88.ipynb\" target=\"_parent\"><img src=\"https://colab.research.google.com/assets/colab-badge.svg\" alt=\"Open In Colab\"/></a>"
      ]
    },
    {
      "cell_type": "code",
      "execution_count": null,
      "metadata": {
        "id": "c8qR5moePKB9"
      },
      "outputs": [],
      "source": [
        "def solution(arr1, arr2):\n",
        "    import numpy as np\n",
        "    n_arr1=np.array(arr1)\n",
        "    n_arr2=np.array(arr2)\n",
        "    return np.dot(n_arr1,n_arr2).tolist()"
      ]
    },
    {
      "cell_type": "code",
      "source": [
        "#다른 사람 코드\n",
        "import numpy as np\n",
        "def productMatrix(A, B):\n",
        "\n",
        "    return (np.matrix(A)*np.matrix(B)).tolist()"
      ],
      "metadata": {
        "id": "lm-df5ULVL45"
      },
      "execution_count": null,
      "outputs": []
    },
    {
      "cell_type": "code",
      "source": [
        "'''알게된 것\n",
        "np.dot(행렬곱)\n",
        "np.array1 * np.array2 는 각 라인 맞춰서 곱셈\n",
        "\n",
        "return np.array하면 오류 tolist()로 바꿔줘야함\n",
        "\n",
        "다른사람코드를 보면 \n",
        "matrix로 * 쓰면 dot()처럼 쓰일 수 있음\n",
        "\n",
        "\n",
        "\n",
        "\n"
      ],
      "metadata": {
        "id": "VN2jHLjuPPyT"
      },
      "execution_count": null,
      "outputs": []
    }
  ]
}