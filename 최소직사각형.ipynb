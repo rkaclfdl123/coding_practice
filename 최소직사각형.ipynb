{
  "nbformat": 4,
  "nbformat_minor": 0,
  "metadata": {
    "colab": {
      "name": "최소직사각형.ipynb",
      "provenance": [],
      "authorship_tag": "ABX9TyNkqnRKmydKe6JaRrwXNIJ+",
      "include_colab_link": true
    },
    "kernelspec": {
      "name": "python3",
      "display_name": "Python 3"
    },
    "language_info": {
      "name": "python"
    }
  },
  "cells": [
    {
      "cell_type": "markdown",
      "metadata": {
        "id": "view-in-github",
        "colab_type": "text"
      },
      "source": [
        "<a href=\"https://colab.research.google.com/github/rkaclfdl123/coding_practice/blob/main/%EC%B5%9C%EC%86%8C%EC%A7%81%EC%82%AC%EA%B0%81%ED%98%95.ipynb\" target=\"_parent\"><img src=\"https://colab.research.google.com/assets/colab-badge.svg\" alt=\"Open In Colab\"/></a>"
      ]
    },
    {
      "cell_type": "code",
      "source": [
        "#내코드\n",
        "def solution(sizes):\n",
        "    list_B=[]\n",
        "    for a,b in enumerate(sizes):\n",
        "        if b[0] > b[1]:\n",
        "            b[0],b[1]=b[1],b[0]\n",
        "        list_B.append([b[0],b[1]])\n",
        "    print(\"list_B:\",list_B)\n",
        "    width=max(map(lambda x:x[0],list_B))\n",
        "    length=max(map(lambda x:x[1],list_B))    \n",
        "    return width*length"
      ],
      "metadata": {
        "id": "ShkO609j7cKZ"
      },
      "execution_count": null,
      "outputs": []
    },
    {
      "cell_type": "code",
      "execution_count": 9,
      "metadata": {
        "colab": {
          "base_uri": "https://localhost:8080/"
        },
        "id": "_3ZdJGDV62EI",
        "outputId": "302f1136-5903-4156-fa02-ee28256f6499"
      },
      "outputs": [
        {
          "output_type": "execute_result",
          "data": {
            "text/plain": [
              "[[], [60, 50], [30, 70], [60, 30], [80, 40]]"
            ]
          },
          "metadata": {},
          "execution_count": 9
        }
      ],
      "source": [
        "#다른사람 코드\n",
        "solution = lambda sizes: max(sum(sizes, [])) * max(min(size) for size in sizes)\n"
      ]
    },
    {
      "cell_type": "markdown",
      "source": [
        "sum(sizes,[])하면\n",
        "2차원 배열 1차원으로 합칠 수 있음. 새로알게된 사실"
      ],
      "metadata": {
        "id": "or-9P5dv7hGN"
      }
    }
  ]
}