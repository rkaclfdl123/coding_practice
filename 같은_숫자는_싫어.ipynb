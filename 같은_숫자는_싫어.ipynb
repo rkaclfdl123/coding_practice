{
  "nbformat": 4,
  "nbformat_minor": 0,
  "metadata": {
    "colab": {
      "name": "같은 숫자는 싫어.ipynb",
      "provenance": [],
      "authorship_tag": "ABX9TyMbndVRTcEUjn35vgmUqcOd",
      "include_colab_link": true
    },
    "kernelspec": {
      "name": "python3",
      "display_name": "Python 3"
    },
    "language_info": {
      "name": "python"
    }
  },
  "cells": [
    {
      "cell_type": "markdown",
      "metadata": {
        "id": "view-in-github",
        "colab_type": "text"
      },
      "source": [
        "<a href=\"https://colab.research.google.com/github/rkaclfdl123/coding_practice/blob/main/%EA%B0%99%EC%9D%80_%EC%88%AB%EC%9E%90%EB%8A%94_%EC%8B%AB%EC%96%B4.ipynb\" target=\"_parent\"><img src=\"https://colab.research.google.com/assets/colab-badge.svg\" alt=\"Open In Colab\"/></a>"
      ]
    },
    {
      "cell_type": "code",
      "execution_count": 1,
      "metadata": {
        "id": "JvXVgWwTcpHM"
      },
      "outputs": [],
      "source": [
        "#내 코드\n",
        "def solution(arr):\n",
        "    word=[]\n",
        "    for i in arr:\n",
        "        if len(word)==0 or word[-1]!=i: \n",
        "            word.append(i)\n",
        "        else:\n",
        "            pass\n",
        "    return word"
      ]
    },
    {
      "cell_type": "code",
      "source": [
        "'''\n",
        "처음엔 set으로 풀라고했으나 예시 1번에 1이 다시 나오는걸보고 방법을 바꿈\n",
        "되도록이면 반복문과 조건문을 안쓰려고했으나 안되서 썼음\n",
        "다른사람 풀이도 내 풀이랑 비슷함\n",
        "'''"
      ],
      "metadata": {
        "id": "kXTS47TaeOxc"
      },
      "execution_count": null,
      "outputs": []
    }
  ]
}