{
  "nbformat": 4,
  "nbformat_minor": 0,
  "metadata": {
    "colab": {
      "name": "약수의 합.ipynb",
      "provenance": [],
      "authorship_tag": "ABX9TyOPSp/wTahgeEDq1Uk0V++C",
      "include_colab_link": true
    },
    "kernelspec": {
      "name": "python3",
      "display_name": "Python 3"
    },
    "language_info": {
      "name": "python"
    }
  },
  "cells": [
    {
      "cell_type": "markdown",
      "metadata": {
        "id": "view-in-github",
        "colab_type": "text"
      },
      "source": [
        "<a href=\"https://colab.research.google.com/github/rkaclfdl123/coding_practice/blob/main/%EC%95%BD%EC%88%98%EC%9D%98_%ED%95%A9.ipynb\" target=\"_parent\"><img src=\"https://colab.research.google.com/assets/colab-badge.svg\" alt=\"Open In Colab\"/></a>"
      ]
    },
    {
      "cell_type": "code",
      "execution_count": null,
      "metadata": {
        "id": "0T12HdDA7rxL"
      },
      "outputs": [],
      "source": [
        "#내 코드\n",
        "def solution(n):\n",
        "    result=[]\n",
        "    for i in range(1,n+1):\n",
        "        if n%i==0:\n",
        "            result.append(i)\n",
        "    return sum(result)"
      ]
    },
    {
      "cell_type": "code",
      "source": [
        "#다른사람 코드\n",
        "def sumDivisor(num):\n",
        "    # num / 2 의 수들만 검사하면 성능 약 2배 향상잼\n",
        "    return num + sum([i for i in range(1, (num // 2) + 1) if num % i == 0])"
      ],
      "metadata": {
        "id": "6efvt0478wMa"
      },
      "execution_count": null,
      "outputs": []
    },
    {
      "cell_type": "code",
      "source": [
        "# 12의 약수를 구할때 6이후에 숫자는 사실 필요가없음\n",
        "#시간을 반으로 줄일 수 있음(key point)"
      ],
      "metadata": {
        "id": "wgJp06lF8yOr"
      },
      "execution_count": null,
      "outputs": []
    }
  ]
}