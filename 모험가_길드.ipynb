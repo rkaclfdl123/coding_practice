{
  "nbformat": 4,
  "nbformat_minor": 0,
  "metadata": {
    "colab": {
      "name": "모험가 길드.ipynb",
      "provenance": [],
      "authorship_tag": "ABX9TyOfUkTLI4U6wv8wNr2RhXq9",
      "include_colab_link": true
    },
    "kernelspec": {
      "name": "python3",
      "display_name": "Python 3"
    },
    "language_info": {
      "name": "python"
    }
  },
  "cells": [
    {
      "cell_type": "markdown",
      "metadata": {
        "id": "view-in-github",
        "colab_type": "text"
      },
      "source": [
        "<a href=\"https://colab.research.google.com/github/rkaclfdl123/coding_practice/blob/main/%EB%AA%A8%ED%97%98%EA%B0%80_%EA%B8%B8%EB%93%9C.ipynb\" target=\"_parent\"><img src=\"https://colab.research.google.com/assets/colab-badge.svg\" alt=\"Open In Colab\"/></a>"
      ]
    },
    {
      "cell_type": "code",
      "source": [
        "'''\n",
        "한마을에 모험가 n명\n",
        "n명의 모험가의 공포도 측정\n",
        "공포도가 X인 모험가는 반드시 X명이상으로 구성되어야 함.\n",
        "최대 몇개의 모험가 그룹이 가능한지 \n",
        "ex)\n",
        "N=5\n",
        "2 3 1 2 2이면\n",
        "group1= 1,2,3\n",
        "group2=2,2\n",
        "'''\n"
      ],
      "metadata": {
        "id": "VeS8SKz9-6uG"
      },
      "execution_count": null,
      "outputs": []
    },
    {
      "cell_type": "code",
      "source": [
        "N=5\n",
        "mohum=[3,3,3,3,3,3,3,3,3]\n",
        "mohum.sort()"
      ],
      "metadata": {
        "id": "FZCfQP1I_aa1"
      },
      "execution_count": 14,
      "outputs": []
    },
    {
      "cell_type": "code",
      "source": [
        "mohum"
      ],
      "metadata": {
        "colab": {
          "base_uri": "https://localhost:8080/"
        },
        "id": "jlgqICG3C-_F",
        "outputId": "614b53cc-d61b-4748-fcff-474e74205ece"
      },
      "execution_count": 17,
      "outputs": [
        {
          "output_type": "execute_result",
          "data": {
            "text/plain": [
              "[3, 3, 3, 3, 3, 3, 3, 3, 3]"
            ]
          },
          "metadata": {},
          "execution_count": 17
        }
      ]
    },
    {
      "cell_type": "code",
      "source": [
        "count=0\n",
        "result=0\n",
        "for i in mohum:\n",
        "    count+=1\n",
        "    if i<=count:\n",
        "        result+=1\n",
        "        count=0\n",
        "print(result)\n",
        "\n",
        "\n",
        "        \n"
      ],
      "metadata": {
        "colab": {
          "base_uri": "https://localhost:8080/"
        },
        "id": "qFqgk8qoDFgX",
        "outputId": "cd0147f5-a6f6-43f2-cfa1-c079b538cbff"
      },
      "execution_count": 19,
      "outputs": [
        {
          "output_type": "stream",
          "name": "stdout",
          "text": [
            "3\n"
          ]
        }
      ]
    },
    {
      "cell_type": "code",
      "source": [
        ""
      ],
      "metadata": {
        "id": "qPM9jCW5HYEw"
      },
      "execution_count": null,
      "outputs": []
    }
  ]
}