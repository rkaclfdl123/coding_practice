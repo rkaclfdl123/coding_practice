{
  "nbformat": 4,
  "nbformat_minor": 0,
  "metadata": {
    "colab": {
      "name": "내적.ipynb",
      "provenance": [],
      "authorship_tag": "ABX9TyNHrIptgF76L/0CVIKn497U",
      "include_colab_link": true
    },
    "kernelspec": {
      "name": "python3",
      "display_name": "Python 3"
    },
    "language_info": {
      "name": "python"
    }
  },
  "cells": [
    {
      "cell_type": "markdown",
      "metadata": {
        "id": "view-in-github",
        "colab_type": "text"
      },
      "source": [
        "<a href=\"https://colab.research.google.com/github/rkaclfdl123/coding_practice/blob/main/%EB%82%B4%EC%A0%81.ipynb\" target=\"_parent\"><img src=\"https://colab.research.google.com/assets/colab-badge.svg\" alt=\"Open In Colab\"/></a>"
      ]
    },
    {
      "cell_type": "code",
      "execution_count": 10,
      "metadata": {
        "colab": {
          "base_uri": "https://localhost:8080/"
        },
        "id": "XOTujjig2-fo",
        "outputId": "0cc5bbc0-eb65-41fe-f746-01611d2f8366"
      },
      "outputs": [
        {
          "output_type": "execute_result",
          "data": {
            "text/plain": [
              "3"
            ]
          },
          "metadata": {},
          "execution_count": 10
        }
      ],
      "source": [
        "'''\n",
        "문제 설명\n",
        "길이가 같은 두 1차원 정수 배열 a,b 가 매개변수로 주어집니다.\n",
        "a와 b의 내적을 return 하도록 solution 함수를 완성해주세요.\n",
        "\n",
        "이때 a와 b의 내적은 a[0]*b[0] + a[1]*b[1] .. a[n-1]*b[n-1]입니다.\n",
        "\n",
        "'''\n",
        "#내코드 \n",
        "a=[1,2,3,4]\n",
        "b=[-3,-1,0,2]\n",
        "def solution(a, b):\n",
        "    return sum(map(lambda x,y:x*y,a,b))\n",
        "\n",
        "solution(a,b)\n"
      ]
    },
    {
      "cell_type": "markdown",
      "source": [
        "-반복문 안쓰려고 노력중\n",
        "- lambda 살짝 헷갈림\n",
        "- (lambda x,y :x+y)(20,30) \n",
        "- (lambda x,y: x+y,a,b)\n",
        "- 다르게 써야되는 듯 "
      ],
      "metadata": {
        "id": "q5V1Queb8Ki5"
      }
    },
    {
      "cell_type": "markdown",
      "source": [
        ""
      ],
      "metadata": {
        "id": "V5rrj11N3LjV"
      }
    }
  ]
}