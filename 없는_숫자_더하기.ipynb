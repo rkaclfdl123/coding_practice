{
  "nbformat": 4,
  "nbformat_minor": 0,
  "metadata": {
    "colab": {
      "name": "없는 숫자 더하기.ipynb",
      "provenance": [],
      "authorship_tag": "ABX9TyNKc9Rw8y/AmyCXWGiedQ6h",
      "include_colab_link": true
    },
    "kernelspec": {
      "name": "python3",
      "display_name": "Python 3"
    },
    "language_info": {
      "name": "python"
    }
  },
  "cells": [
    {
      "cell_type": "markdown",
      "metadata": {
        "id": "view-in-github",
        "colab_type": "text"
      },
      "source": [
        "<a href=\"https://colab.research.google.com/github/rkaclfdl123/coding_practice/blob/main/%EC%97%86%EB%8A%94_%EC%88%AB%EC%9E%90_%EB%8D%94%ED%95%98%EA%B8%B0.ipynb\" target=\"_parent\"><img src=\"https://colab.research.google.com/assets/colab-badge.svg\" alt=\"Open In Colab\"/></a>"
      ]
    },
    {
      "cell_type": "code",
      "execution_count": null,
      "metadata": {
        "id": "E04shDIm1lri"
      },
      "outputs": [],
      "source": [
        "#내코드\n",
        "def solution(numbers):\n",
        "    all_numbers=[0,1,2,3,4,5,6,7,8,9]\n",
        "    return sum(all_numbers)-sum(numbers)\n"
      ]
    },
    {
      "cell_type": "markdown",
      "source": [
        "- 반복문 안쓸려고 했음\n",
        "- 45로 하면 더 빠를거같긴한데 45가 뭔지 sum(0~9)인거를 알아야하니까 그냥 sum-sum으로 했음\n"
      ],
      "metadata": {
        "id": "UGkOS7Hc2qVT"
      }
    },
    {
      "cell_type": "code",
      "source": [
        "#다른 사람 코드 1\n",
        "def solution(numbers):\n",
        "    return 45 - sum(numbers)\n",
        "\n",
        "\n",
        "\n",
        "\n",
        "# 다른사람 코드 2\n",
        "solution = lambda x: sum(range(10)) - sum(x)"
      ],
      "metadata": {
        "id": "Rkt6WiRf2g2u"
      },
      "execution_count": null,
      "outputs": []
    }
  ]
}