{
  "nbformat": 4,
  "nbformat_minor": 0,
  "metadata": {
    "colab": {
      "name": "나머지가 1이 되는 수 찾기.ipynb",
      "provenance": [],
      "authorship_tag": "ABX9TyNyfl4reHlgefXuXTl+YR5J",
      "include_colab_link": true
    },
    "kernelspec": {
      "name": "python3",
      "display_name": "Python 3"
    },
    "language_info": {
      "name": "python"
    }
  },
  "cells": [
    {
      "cell_type": "markdown",
      "metadata": {
        "id": "view-in-github",
        "colab_type": "text"
      },
      "source": [
        "<a href=\"https://colab.research.google.com/github/rkaclfdl123/coding_practice/blob/main/%EB%82%98%EB%A8%B8%EC%A7%80%EA%B0%80_1%EC%9D%B4_%EB%90%98%EB%8A%94_%EC%88%98_%EC%B0%BE%EA%B8%B0.ipynb\" target=\"_parent\"><img src=\"https://colab.research.google.com/assets/colab-badge.svg\" alt=\"Open In Colab\"/></a>"
      ]
    },
    {
      "cell_type": "code",
      "execution_count": null,
      "metadata": {
        "id": "HAbQVISN9lxj"
      },
      "outputs": [],
      "source": [
        "#내 코드\n",
        "def solution(n):\n",
        "    for i in range(2,n):\n",
        "        if n%i==1:\n",
        "            return i"
      ]
    },
    {
      "cell_type": "code",
      "source": [
        "#다른사람 코드\n",
        "def solution(n):\n",
        "    answer = 0\n",
        "    for i in range(2, n):\n",
        "        if n % i == 1:\n",
        "            return i\n",
        "    return answer"
      ],
      "metadata": {
        "id": "kQSYomzy9nmF"
      },
      "execution_count": null,
      "outputs": []
    },
    {
      "cell_type": "markdown",
      "source": [
        "나머지가 1인것을 찾는거기 때문에 \n",
        "2부터 시작\n",
        "\n",
        "작은거부터 찾기 시작해서 찾으면 바로 종료\n"
      ],
      "metadata": {
        "id": "zFSp50Fn9x1S"
      }
    }
  ]
}