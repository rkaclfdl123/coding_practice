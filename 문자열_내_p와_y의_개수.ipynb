{
  "nbformat": 4,
  "nbformat_minor": 0,
  "metadata": {
    "colab": {
      "name": "문자열 내 p와 y의 개수.ipynb",
      "provenance": [],
      "authorship_tag": "ABX9TyO8rHsYQauLl/uAyuMK708G",
      "include_colab_link": true
    },
    "kernelspec": {
      "name": "python3",
      "display_name": "Python 3"
    },
    "language_info": {
      "name": "python"
    }
  },
  "cells": [
    {
      "cell_type": "markdown",
      "metadata": {
        "id": "view-in-github",
        "colab_type": "text"
      },
      "source": [
        "<a href=\"https://colab.research.google.com/github/rkaclfdl123/coding_practice/blob/main/%EB%AC%B8%EC%9E%90%EC%97%B4_%EB%82%B4_p%EC%99%80_y%EC%9D%98_%EA%B0%9C%EC%88%98.ipynb\" target=\"_parent\"><img src=\"https://colab.research.google.com/assets/colab-badge.svg\" alt=\"Open In Colab\"/></a>"
      ]
    },
    {
      "cell_type": "code",
      "execution_count": 1,
      "metadata": {
        "id": "p3BjVWjNjA-R"
      },
      "outputs": [],
      "source": [
        "#내 코드\n",
        "def solution(s):\n",
        "    count_p=0\n",
        "    count_y=0\n",
        "    s=s.lower()\n",
        "    count_p=s.count(\"p\")\n",
        "    count_y=s.count(\"y\")\n",
        "    return True if count_p==count_y else False"
      ]
    },
    {
      "cell_type": "code",
      "source": [
        "#다른사람 코드\n",
        "def numPY(s):\n",
        "    # 함수를 완성하세요\n",
        "    return s.lower().count('p') == s.lower().count('y')"
      ],
      "metadata": {
        "id": "4aEmMMF2jGjt"
      },
      "execution_count": null,
      "outputs": []
    },
    {
      "cell_type": "code",
      "source": [
        "# return a==b 하면 그냥 True False가 나옴 따로 지정 안해도 됨\n",
        "# 이렇게하면 0으로 지정 해줄 필요도 없을듯"
      ],
      "metadata": {
        "id": "piPLuneSjNfm"
      },
      "execution_count": null,
      "outputs": []
    }
  ]
}