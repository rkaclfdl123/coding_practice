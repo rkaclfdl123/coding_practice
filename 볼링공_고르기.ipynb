{
  "nbformat": 4,
  "nbformat_minor": 0,
  "metadata": {
    "colab": {
      "name": "볼링공 고르기.ipynb",
      "provenance": [],
      "authorship_tag": "ABX9TyM+FABhsLwmvMNm78ODsIFj",
      "include_colab_link": true
    },
    "kernelspec": {
      "name": "python3",
      "display_name": "Python 3"
    },
    "language_info": {
      "name": "python"
    }
  },
  "cells": [
    {
      "cell_type": "markdown",
      "metadata": {
        "id": "view-in-github",
        "colab_type": "text"
      },
      "source": [
        "<a href=\"https://colab.research.google.com/github/rkaclfdl123/coding_practice/blob/main/%EB%B3%BC%EB%A7%81%EA%B3%B5_%EA%B3%A0%EB%A5%B4%EA%B8%B0.ipynb\" target=\"_parent\"><img src=\"https://colab.research.google.com/assets/colab-badge.svg\" alt=\"Open In Colab\"/></a>"
      ]
    },
    {
      "cell_type": "code",
      "source": [
        "'''\n",
        "A,B 두사람이 볼링을 치고 있습니다.\n",
        "두 사람은 서로 무게가 다른 볼링공을 고르려고합니다.\n",
        "볼링공은 총 n개가 있으며 각 볼링공 마다 무게가 적혀있고\n",
        "공의 번호는 1번부터 순서대로 부여됩니다.\n",
        "또한 같은 무게의 공이 여러개 있을 수 있지만, 서로 다른공으로 간주합니다.\n",
        "볼링공의 무게는 1부터 m까지 자연수 형태로 존재합니다.\n",
        "예를들어\n",
        "n=5이고 m=3이며 각각의 무게가 차례대로 1,3,2,3,2 일때\n",
        "각 공의 번호가 차례대로 1번부터 5번까지 부여됩ㄴ비다.\n",
        "이 때 두 사람이 고를 수 있는 볼링공 번호의 조합을 구하면 다음과 같습니다. \n",
        "'''\n"
      ],
      "metadata": {
        "id": "wPyoPIZmYWBY"
      },
      "execution_count": null,
      "outputs": []
    },
    {
      "cell_type": "code",
      "source": [
        "n=5\n",
        "m=3\n",
        "gram=[1,5,4,3,2,4,5,2]\n",
        "from itertools import combinations\n",
        "len(list(combinations(gram,2)))-(len(gram)-len(set(gram)))\n",
        "        "
      ],
      "metadata": {
        "colab": {
          "base_uri": "https://localhost:8080/"
        },
        "id": "DaQaFKP7575L",
        "outputId": "34c34960-10e4-4ee0-eb8e-aa8d6cda23ee"
      },
      "execution_count": 6,
      "outputs": [
        {
          "output_type": "execute_result",
          "data": {
            "text/plain": [
              "25"
            ]
          },
          "metadata": {},
          "execution_count": 6
        }
      ]
    },
    {
      "cell_type": "code",
      "source": [
        ""
      ],
      "metadata": {
        "id": "ZdV3A8Na6xKv"
      },
      "execution_count": null,
      "outputs": []
    }
  ]
}