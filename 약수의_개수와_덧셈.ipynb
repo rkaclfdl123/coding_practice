{
  "nbformat": 4,
  "nbformat_minor": 0,
  "metadata": {
    "colab": {
      "name": "약수의 개수와 덧셈.ipynb",
      "provenance": [],
      "authorship_tag": "ABX9TyPW0/T5rcEwosHX7XgV1HoD",
      "include_colab_link": true
    },
    "kernelspec": {
      "name": "python3",
      "display_name": "Python 3"
    },
    "language_info": {
      "name": "python"
    }
  },
  "cells": [
    {
      "cell_type": "markdown",
      "metadata": {
        "id": "view-in-github",
        "colab_type": "text"
      },
      "source": [
        "<a href=\"https://colab.research.google.com/github/rkaclfdl123/coding_practice/blob/main/%EC%95%BD%EC%88%98%EC%9D%98_%EA%B0%9C%EC%88%98%EC%99%80_%EB%8D%A7%EC%85%88.ipynb\" target=\"_parent\"><img src=\"https://colab.research.google.com/assets/colab-badge.svg\" alt=\"Open In Colab\"/></a>"
      ]
    },
    {
      "cell_type": "code",
      "source": [
        "#내 코드\n",
        "def solution(left, right):\n",
        "\n",
        "    count_2=[]\n",
        "    result=0\n",
        "    for i in range(left,right+1):\n",
        "        count_1=[]\n",
        "        count_2.append(count_1)\n",
        "        for j in range(1,i+1):\n",
        "            if i%j==0:\n",
        "                count_1.append(j)\n",
        "\n",
        "    for k in count_2:\n",
        "        if len(k)%2==0:\n",
        "            result+=k[-1]\n",
        "        if len(k)%2==1:\n",
        "            result-=k[-1]\n",
        "    return result\n"
      ],
      "metadata": {
        "id": "QNlB9_-I6Hlm"
      },
      "execution_count": null,
      "outputs": []
    },
    {
      "cell_type": "code",
      "execution_count": null,
      "metadata": {
        "id": "-GWoVd783rHR"
      },
      "outputs": [],
      "source": [
        "#다른 사람 코드\n",
        "def solution(left, right):\n",
        "    answer = 0\n",
        "    for i in range(left,right+1):\n",
        "        if int(i**0.5)==i**0.5:\n",
        "            answer -= i\n",
        "        else:\n",
        "            answer += i\n",
        "    return answer"
      ]
    }
  ]
}