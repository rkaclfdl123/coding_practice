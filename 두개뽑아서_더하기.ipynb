{
  "nbformat": 4,
  "nbformat_minor": 0,
  "metadata": {
    "colab": {
      "name": "두개뽑아서 더하기.ipynb",
      "provenance": [],
      "authorship_tag": "ABX9TyP0/6EyJmW/bxBz/LAD1j/e",
      "include_colab_link": true
    },
    "kernelspec": {
      "name": "python3",
      "display_name": "Python 3"
    },
    "language_info": {
      "name": "python"
    }
  },
  "cells": [
    {
      "cell_type": "markdown",
      "metadata": {
        "id": "view-in-github",
        "colab_type": "text"
      },
      "source": [
        "<a href=\"https://colab.research.google.com/github/rkaclfdl123/coding_practice/blob/main/%EB%91%90%EA%B0%9C%EB%BD%91%EC%95%84%EC%84%9C_%EB%8D%94%ED%95%98%EA%B8%B0.ipynb\" target=\"_parent\"><img src=\"https://colab.research.google.com/assets/colab-badge.svg\" alt=\"Open In Colab\"/></a>"
      ]
    },
    {
      "cell_type": "code",
      "execution_count": 4,
      "metadata": {
        "id": "fZxGTrcpHPRY"
      },
      "outputs": [],
      "source": [
        "# 내가 짠 코드\n",
        "def solution(numbers):\n",
        "    result=[]\n",
        "    while (numbers):\n",
        "        main_number=numbers.pop(0)\n",
        "        for i in range(len(numbers)):\n",
        "            result.append(main_number+numbers[i])\n",
        "            \n",
        "    \n",
        "    print(sorted(set(result)))\n"
      ]
    },
    {
      "cell_type": "code",
      "source": [
        "import time\n",
        "start=time.time()\n",
        "solution([2,1,3,4,1])\n",
        "end=time.time()\n",
        "print(end-start)"
      ],
      "metadata": {
        "colab": {
          "base_uri": "https://localhost:8080/"
        },
        "id": "BIMu7AP0HSJb",
        "outputId": "6b144f8e-052f-444d-f321-11e9d8abc9b6"
      },
      "execution_count": 5,
      "outputs": [
        {
          "output_type": "stream",
          "name": "stdout",
          "text": [
            "[2, 3, 4, 5, 6, 7]\n",
            "0.0008606910705566406\n"
          ]
        }
      ]
    },
    {
      "cell_type": "code",
      "source": [
        "# 프로그래머스 코드\n",
        "def solution(numbers):\n",
        "    answer = []\n",
        "    for i in range(len(numbers)):\n",
        "        for j in range(i+1, len(numbers)):\n",
        "            answer.append(numbers[i] + numbers[j])\n",
        "    print(sorted(list(set(answer))))"
      ],
      "metadata": {
        "id": "4fHgiQYWHqDx"
      },
      "execution_count": 7,
      "outputs": []
    },
    {
      "cell_type": "code",
      "source": [
        "import time\n",
        "start=time.time()\n",
        "solution([2,1,3,4,1])\n",
        "end=time.time()\n",
        "print(end-start)"
      ],
      "metadata": {
        "colab": {
          "base_uri": "https://localhost:8080/"
        },
        "id": "DIwNywW9HyWp",
        "outputId": "0970c5f1-6224-44c9-af75-5a743547939a"
      },
      "execution_count": 8,
      "outputs": [
        {
          "output_type": "stream",
          "name": "stdout",
          "text": [
            "[2, 3, 4, 5, 6, 7]\n",
            "0.0016121864318847656\n"
          ]
        }
      ]
    }
  ]
}