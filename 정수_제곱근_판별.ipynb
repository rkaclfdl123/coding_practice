{
  "nbformat": 4,
  "nbformat_minor": 0,
  "metadata": {
    "colab": {
      "name": "정수 제곱근 판별.ipynb",
      "provenance": [],
      "authorship_tag": "ABX9TyPQn4RcH80MjiVvPiHgOx/b",
      "include_colab_link": true
    },
    "kernelspec": {
      "name": "python3",
      "display_name": "Python 3"
    },
    "language_info": {
      "name": "python"
    }
  },
  "cells": [
    {
      "cell_type": "markdown",
      "metadata": {
        "id": "view-in-github",
        "colab_type": "text"
      },
      "source": [
        "<a href=\"https://colab.research.google.com/github/rkaclfdl123/coding_practice/blob/main/%EC%A0%95%EC%88%98_%EC%A0%9C%EA%B3%B1%EA%B7%BC_%ED%8C%90%EB%B3%84.ipynb\" target=\"_parent\"><img src=\"https://colab.research.google.com/assets/colab-badge.svg\" alt=\"Open In Colab\"/></a>"
      ]
    },
    {
      "cell_type": "markdown",
      "source": [
        "## 문제 설명\n",
        "- 임의의 양의 정수 n에 대해, n이 어떤 양의 정수 x의 제곱인지 아닌지 판단하려 합니다.\n",
        "n이 양의 정수 x의 제곱이라면 x+1의 제곱을 리턴하고, n이 양의 정수 x의 제곱이 아니라면 -1을 리턴하는 함수를 완성하세요."
      ],
      "metadata": {
        "id": "PVhD1S_ahzyF"
      }
    },
    {
      "cell_type": "code",
      "execution_count": null,
      "metadata": {
        "id": "0084h9p6hpdB"
      },
      "outputs": [],
      "source": [
        "#내코드\n",
        "def solution(n):\n",
        "    if (n**0.5)%1==0:\n",
        "        return ((n**0.5)+1)**2\n",
        "    else:\n",
        "        return -1"
      ]
    },
    {
      "cell_type": "code",
      "source": [
        "#다른사람 코드\n",
        "def nextSqure(n):\n",
        "    sqrt = n ** (1/2)\n",
        "\n",
        "    if sqrt % 1 == 0:\n",
        "        return (sqrt + 1) ** 2\n",
        "    return 'no'\n",
        "\n",
        "'''\n",
        "n **0.5 하면 루트임\n",
        "'''"
      ],
      "metadata": {
        "id": "sW5DfbOnjDtB"
      },
      "execution_count": null,
      "outputs": []
    }
  ]
}