{
  "nbformat": 4,
  "nbformat_minor": 0,
  "metadata": {
    "colab": {
      "name": "콜라츠 추측.ipynb",
      "provenance": [],
      "authorship_tag": "ABX9TyPnsuwuRXPsEo1CR35OLVRU",
      "include_colab_link": true
    },
    "kernelspec": {
      "name": "python3",
      "display_name": "Python 3"
    },
    "language_info": {
      "name": "python"
    }
  },
  "cells": [
    {
      "cell_type": "markdown",
      "metadata": {
        "id": "view-in-github",
        "colab_type": "text"
      },
      "source": [
        "<a href=\"https://colab.research.google.com/github/rkaclfdl123/coding_practice/blob/main/%EC%BD%9C%EB%9D%BC%EC%B8%A0_%EC%B6%94%EC%B8%A1.ipynb\" target=\"_parent\"><img src=\"https://colab.research.google.com/assets/colab-badge.svg\" alt=\"Open In Colab\"/></a>"
      ]
    },
    {
      "cell_type": "markdown",
      "source": [
        "## 문제 설명\n",
        "- 1937년 Collatz란 사람에 의해 제기된 이 추측은, 주어진 수가 1이 될때까지 다음 작업을 반복하면, 모든 수를 1로 만들 수 있다는 추측입니다. 작업은 다음과 같습니다.\n",
        "\n",
        "<br>\n",
        "1-1. 입력된 수가 짝수라면 2로 나눕니다. \n",
        "<br>\n",
        "1-2. 입력된 수가 홀수라면 3을 곱하고 1을 더합니다.\n",
        "<br>\n",
        "2. 결과로 나온 수에 같은 작업을 1이 될 때까지 반복합니다.\n",
        "\n",
        "\n",
        "<br>예를 들어, 입력된 수가 6이라면 6→3→10→5→16→8→4→2→1 이 되어 총 8번 만에 1이 됩니다. 위 작업을 몇 번이나 반복해야하는지 반환하는 함수, solution을 완성해 주세요. 단, 작업을 500번을 반복해도 1이 되지 않는다면 –1을 반환해 주세요."
      ],
      "metadata": {
        "id": "PVhD1S_ahzyF"
      }
    },
    {
      "cell_type": "code",
      "execution_count": null,
      "metadata": {
        "id": "0084h9p6hpdB"
      },
      "outputs": [],
      "source": [
        "#내코드\n",
        "def solution(num):\n",
        "    count=0\n",
        "    for i in range(500):\n",
        "        if num==1:\n",
        "            return count\n",
        "        if num%2==0:\n",
        "            num/=2\n",
        "        else:\n",
        "            num=num*3+1\n",
        "        count+=1\n",
        "    return -1\n",
        "\n",
        "    "
      ]
    },
    {
      "cell_type": "code",
      "source": [
        "#다른사람 코드\n",
        "def collatz(num):\n",
        "    for i in range(500):\n",
        "        num = num / 2 if num % 2 == 0 else num*3 + 1\n",
        "        if num == 1:\n",
        "            return i + 1\n",
        "    return -1"
      ],
      "metadata": {
        "id": "sW5DfbOnjDtB"
      },
      "execution_count": null,
      "outputs": []
    }
  ]
}