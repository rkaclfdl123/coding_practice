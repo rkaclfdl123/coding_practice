{
  "nbformat": 4,
  "nbformat_minor": 0,
  "metadata": {
    "colab": {
      "name": "하샤드 수.ipynb",
      "provenance": [],
      "authorship_tag": "ABX9TyPcrIzDmg2CyzI+UP2/Jm1C",
      "include_colab_link": true
    },
    "kernelspec": {
      "name": "python3",
      "display_name": "Python 3"
    },
    "language_info": {
      "name": "python"
    }
  },
  "cells": [
    {
      "cell_type": "markdown",
      "metadata": {
        "id": "view-in-github",
        "colab_type": "text"
      },
      "source": [
        "<a href=\"https://colab.research.google.com/github/rkaclfdl123/coding_practice/blob/main/%ED%95%98%EC%83%A4%EB%93%9C_%EC%88%98.ipynb\" target=\"_parent\"><img src=\"https://colab.research.google.com/assets/colab-badge.svg\" alt=\"Open In Colab\"/></a>"
      ]
    },
    {
      "cell_type": "markdown",
      "source": [
        "## 문제 설명\n",
        "- 양의 정수 x가 하샤드 수이려면 x의 자릿수의 합으로 x가 나누어져야 합니다. 예를 들어 18의 자릿수 합은 1+8=9이고, 18은 9로 나누어 떨어지므로 18은 하샤드 수입니다. 자연수 x를 입력받아 x가 하샤드 수인지 아닌지 검사하는 함수, solution을 완성해주세요."
      ],
      "metadata": {
        "id": "PVhD1S_ahzyF"
      }
    },
    {
      "cell_type": "code",
      "execution_count": null,
      "metadata": {
        "id": "0084h9p6hpdB"
      },
      "outputs": [],
      "source": [
        "#내코드\n",
        "def solution(x):\n",
        "    return x%sum(list(map(int,(str(x)))))==0 or False\n",
        "\n",
        "    "
      ]
    },
    {
      "cell_type": "code",
      "source": [
        "#다른사람 코드\n",
        "def Harshad(n):\n",
        "    # n은 하샤드 수 인가요?\n",
        "    return n % sum([int(c) for c in str(n)]) == 0"
      ],
      "metadata": {
        "id": "sW5DfbOnjDtB"
      },
      "execution_count": null,
      "outputs": []
    }
  ]
}