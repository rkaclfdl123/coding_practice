{
  "nbformat": 4,
  "nbformat_minor": 0,
  "metadata": {
    "colab": {
      "name": "문자열 재정렬.ipynb",
      "provenance": [],
      "authorship_tag": "ABX9TyM17eBfxEIQXNy+1ddu8/ah",
      "include_colab_link": true
    },
    "kernelspec": {
      "name": "python3",
      "display_name": "Python 3"
    },
    "language_info": {
      "name": "python"
    }
  },
  "cells": [
    {
      "cell_type": "markdown",
      "metadata": {
        "id": "view-in-github",
        "colab_type": "text"
      },
      "source": [
        "<a href=\"https://colab.research.google.com/github/rkaclfdl123/coding_practice/blob/main/%EB%AC%B8%EC%9E%90%EC%97%B4_%EC%9E%AC%EC%A0%95%EB%A0%AC.ipynb\" target=\"_parent\"><img src=\"https://colab.research.google.com/assets/colab-badge.svg\" alt=\"Open In Colab\"/></a>"
      ]
    },
    {
      "cell_type": "code",
      "source": [
        "s=\"K1KA5CB7\"\n",
        "alpha_list=[]\n",
        "number_list=[]\n",
        "for i in s:\n",
        "    if i.isalpha()==True:\n",
        "        alpha_list.append(i)\n",
        "    else:\n",
        "        number_list.append(i)\n",
        "\n",
        "print(alpha_list)\n",
        "print(number_list)"
      ],
      "metadata": {
        "colab": {
          "base_uri": "https://localhost:8080/"
        },
        "id": "wPyoPIZmYWBY",
        "outputId": "96543794-1ddd-45d6-fbac-382fba5638cd"
      },
      "execution_count": 3,
      "outputs": [
        {
          "output_type": "stream",
          "name": "stdout",
          "text": [
            "['K', 'K', 'A', 'C', 'B']\n",
            "['1', '5', '7']\n"
          ]
        }
      ]
    },
    {
      "cell_type": "code",
      "source": [
        "new_alpha=sorted(alpha_list)\n",
        "\"\".join(new_alpha)+str(sum(map(int,number_list)))"
      ],
      "metadata": {
        "colab": {
          "base_uri": "https://localhost:8080/",
          "height": 36
        },
        "id": "uUfc8aBq8QoG",
        "outputId": "5cc50095-7993-40d4-f024-40f72b3e0508"
      },
      "execution_count": 16,
      "outputs": [
        {
          "output_type": "execute_result",
          "data": {
            "application/vnd.google.colaboratory.intrinsic+json": {
              "type": "string"
            },
            "text/plain": [
              "'ABCKK13'"
            ]
          },
          "metadata": {},
          "execution_count": 16
        }
      ]
    }
  ]
}