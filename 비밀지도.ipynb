{
  "nbformat": 4,
  "nbformat_minor": 0,
  "metadata": {
    "colab": {
      "name": "비밀지도.ipynb",
      "provenance": [],
      "authorship_tag": "ABX9TyOajfzd1pQp3CcKapjp/cui",
      "include_colab_link": true
    },
    "kernelspec": {
      "name": "python3",
      "display_name": "Python 3"
    },
    "language_info": {
      "name": "python"
    }
  },
  "cells": [
    {
      "cell_type": "markdown",
      "metadata": {
        "id": "view-in-github",
        "colab_type": "text"
      },
      "source": [
        "<a href=\"https://colab.research.google.com/github/rkaclfdl123/coding_practice/blob/main/%EB%B9%84%EB%B0%80%EC%A7%80%EB%8F%84.ipynb\" target=\"_parent\"><img src=\"https://colab.research.google.com/assets/colab-badge.svg\" alt=\"Open In Colab\"/></a>"
      ]
    },
    {
      "cell_type": "code",
      "source": [
        "arr1=[9, 20, 28, 18, 11]\n",
        "arr2=[30, 1, 21, 17, 28]"
      ],
      "metadata": {
        "id": "J2AR3ZE3EH_D"
      },
      "execution_count": 147,
      "outputs": []
    },
    {
      "cell_type": "code",
      "source": [
        "#내 코드 프로그래머스에서는 insert 오류로 되지않음 코랩에선 잘됨.. 뭘까\n",
        "def binary_graph(n,arr):\n",
        "    graph=[]\n",
        "    for i in arr:\n",
        "        if i !=1:\n",
        "            b=bin(i)[::-1]\n",
        "        elif i ==1:\n",
        "            b=[0,0,0,0,1]\n",
        "        elif i ==0:\n",
        "            b=[0,0,0,0,0]\n",
        "        else:\n",
        "            print(\"error\")\n",
        "        \n",
        "        while(len(b)!=n):\n",
        "            b.insert(0,0)\n",
        "        graph.append(b)\n",
        "    return graph\n",
        "\n",
        "\n",
        "def solution(n, arr1, arr2):\n",
        "    bin_graph1=binary_graph(n,arr1)\n",
        "    bin_graph2=binary_graph(n,arr2)\n",
        "    graph=[[0]*n for i in range(n)]\n",
        "    for i in range(n):\n",
        "        for j in range(n):\n",
        "            if bool(bin_graph1[i][j] or bin_graph2[i][j])==True:\n",
        "                graph[i][j]=\"#\"\n",
        "            else:\n",
        "                graph[i][j]=\" \"\n",
        "    return graph\n"
      ],
      "metadata": {
        "id": "8s1uWnP0OaEJ"
      },
      "execution_count": 149,
      "outputs": []
    },
    {
      "cell_type": "code",
      "source": [
        "solution(6,[46, 33, 33 ,22, 31, 50],\t[27 ,56, 19, 14, 14, 10])"
      ],
      "metadata": {
        "colab": {
          "base_uri": "https://localhost:8080/"
        },
        "id": "aGu6Y4WEP2-X",
        "outputId": "80cb4098-bbbe-4dc0-a1de-e3b6a9935657"
      },
      "execution_count": 150,
      "outputs": [
        {
          "output_type": "execute_result",
          "data": {
            "text/plain": [
              "[['#', '#', '#', '#', '#', '#'],\n",
              " ['#', '#', '#', ' ', ' ', '#'],\n",
              " ['#', '#', ' ', ' ', '#', '#'],\n",
              " [' ', '#', '#', '#', '#', ' '],\n",
              " [' ', '#', '#', '#', '#', '#'],\n",
              " ['#', '#', '#', ' ', '#', ' ']]"
            ]
          },
          "metadata": {},
          "execution_count": 150
        }
      ]
    }
  ]
}