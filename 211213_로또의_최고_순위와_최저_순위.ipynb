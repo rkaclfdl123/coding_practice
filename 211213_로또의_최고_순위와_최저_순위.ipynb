{
  "nbformat": 4,
  "nbformat_minor": 0,
  "metadata": {
    "colab": {
      "name": "211213 로또의 최고 순위와 최저 순위.ipynb",
      "provenance": [],
      "authorship_tag": "ABX9TyMFWLlsnYnmG8VSSPlErIAQ",
      "include_colab_link": true
    },
    "kernelspec": {
      "name": "python3",
      "display_name": "Python 3"
    },
    "language_info": {
      "name": "python"
    }
  },
  "cells": [
    {
      "cell_type": "markdown",
      "metadata": {
        "id": "view-in-github",
        "colab_type": "text"
      },
      "source": [
        "<a href=\"https://colab.research.google.com/github/rkaclfdl123/coding_practice/blob/main/211213_%EB%A1%9C%EB%98%90%EC%9D%98_%EC%B5%9C%EA%B3%A0_%EC%88%9C%EC%9C%84%EC%99%80_%EC%B5%9C%EC%A0%80_%EC%88%9C%EC%9C%84.ipynb\" target=\"_parent\"><img src=\"https://colab.research.google.com/assets/colab-badge.svg\" alt=\"Open In Colab\"/></a>"
      ]
    },
    {
      "cell_type": "markdown",
      "source": [
        "## 로또의 최고 순위와 최저 순위\n",
        "### https://programmers.co.kr/learn/courses/30/lessons/77484\n"
      ],
      "metadata": {
        "id": "WhejIphyv3_R"
      }
    },
    {
      "cell_type": "markdown",
      "source": [
        "### 내풀이\n"
      ],
      "metadata": {
        "id": "kIOlfmIvv_ex"
      }
    },
    {
      "cell_type": "code",
      "source": [
        "def solution(lottos, win_nums):\n",
        "    count_result=0\n",
        "    count_zero=0\n",
        "    for i in lottos:\n",
        "        if i in win_nums:\n",
        "            count_result+=1\n",
        "        if i ==0:\n",
        "            count_zero+=1\n",
        "    max_score=count_result+count_zero\n",
        "    min_score=count_result\n",
        "    \n",
        "    score={\"6\":1,\"5\":2,\"4\":3,\"3\":4,\"2\":5,\"1\":6,\"0\":6}\n",
        "    \n",
        "    A=(score[str(max_score)])\n",
        "    B=(score[str(min_score)])\n",
        "    answer=[A,B]\n",
        "    return answer"
      ],
      "metadata": {
        "id": "jWbhbTt6v8Y6"
      },
      "execution_count": null,
      "outputs": []
    },
    {
      "cell_type": "markdown",
      "source": [
        "### 다른사람 풀이\n"
      ],
      "metadata": {
        "id": "XMVFRrJlwBHX"
      }
    },
    {
      "cell_type": "code",
      "source": [
        "def solution(lottos, win_nums):\n",
        "\n",
        "    rank=[6,6,5,4,3,2,1]\n",
        "\n",
        "    cnt_0 = lottos.count(0)\n",
        "    ans = 0\n",
        "    for x in win_nums:\n",
        "        if x in lottos:\n",
        "            ans += 1\n",
        "    return rank[cnt_0 + ans],rank[ans]\n",
        "\n"
      ],
      "metadata": {
        "id": "HbavN3sLwEnB"
      },
      "execution_count": null,
      "outputs": []
    },
    {
      "cell_type": "markdown",
      "source": [
        "- 딕셔너리를 활용하지않고 rank의 index를 활용하여서 잘 매칭시킨듯\n",
        "- return 쪽 활용을 잘해야할듯"
      ],
      "metadata": {
        "id": "JLXmi8UqwD9p"
      }
    }
  ]
}