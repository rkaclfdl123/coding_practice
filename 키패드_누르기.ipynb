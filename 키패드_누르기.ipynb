{
  "nbformat": 4,
  "nbformat_minor": 0,
  "metadata": {
    "colab": {
      "name": "키패드 누르기.ipynb",
      "provenance": [],
      "authorship_tag": "ABX9TyNn4bPcHmLBiVZLJ7TqgKpC",
      "include_colab_link": true
    },
    "kernelspec": {
      "name": "python3",
      "display_name": "Python 3"
    },
    "language_info": {
      "name": "python"
    }
  },
  "cells": [
    {
      "cell_type": "markdown",
      "metadata": {
        "id": "view-in-github",
        "colab_type": "text"
      },
      "source": [
        "<a href=\"https://colab.research.google.com/github/rkaclfdl123/coding_practice/blob/main/%ED%82%A4%ED%8C%A8%EB%93%9C_%EB%88%84%EB%A5%B4%EA%B8%B0.ipynb\" target=\"_parent\"><img src=\"https://colab.research.google.com/assets/colab-badge.svg\" alt=\"Open In Colab\"/></a>"
      ]
    },
    {
      "cell_type": "code",
      "execution_count": 8,
      "metadata": {
        "id": "ww41fDeMm_qH"
      },
      "outputs": [],
      "source": [
        "#내가 푼 것!\n",
        "def solution(numbers, hand):\n",
        "    #numbers=[1, 3, 4, 5, 8, 2, 1, 4, 5, 9, 5]\n",
        "    \n",
        "    left_loc=[3,0]\n",
        "    right_loc=[3,2]\n",
        "    result=\"\"\n",
        "    left_number={1:[0,0],4:[1,0],7:[2,0]}\n",
        "    right_number={3:[0,2],6:[1,2],9:[2,2]}\n",
        "    middle_number={2:[0,1],5:[1,1],8:[2,1],0:[3,1]}\n",
        "    for i in numbers:\n",
        "        if i in left_number:\n",
        "            left_loc=left_number[i]\n",
        "            result+=\"L\"\n",
        "        elif i in right_number:\n",
        "            right_loc=right_number[i]\n",
        "            result+=\"R\"\n",
        "        elif i in middle_number and find_graph(left_loc, middle_number[i]) > find_graph(right_loc, middle_number[i]):\n",
        "            right_loc=middle_number[i]\n",
        "            result+=\"R\"\n",
        "        elif i in middle_number and find_graph(left_loc, middle_number[i]) < find_graph(right_loc, middle_number[i]):\n",
        "            left_loc=middle_number[i]\n",
        "            result+=\"L\"\n",
        "        elif i in middle_number and find_graph(left_loc, middle_number[i]) == find_graph(right_loc, middle_number[i]):\n",
        "            if hand ==\"right\":\n",
        "                right_loc=middle_number[i]\n",
        "                result+=\"R\"\n",
        "            elif hand == \"left\":\n",
        "                left_loc=middle_number[i]\n",
        "                result+=\"L\"\n",
        "    \n",
        "    \n",
        "    \n",
        "    return result\n",
        "\n",
        "                \n",
        "                \n",
        "    \n",
        "def find_graph(x,y):\n",
        "    #print(abs(x[0]-y[0])+abs(x[1]-y[1]))\n",
        "    return abs(abs(x[0]-y[0])+abs(x[1]-y[1]))\n",
        "    "
      ]
    },
    {
      "cell_type": "markdown",
      "source": [
        "- 딕셔너리로 품 이게 빠를 듯\n",
        "- 3개중 2개만 맞아서 뭔가 하나씩 봤더니 거리가 같을 때 위치 지정을 안해줬었음\n",
        "- 중간에 거리 비교를 할 때 코드가 너무 길어지고 복잡해져서 거리구하는 함수를 따로 만들어줬음\n"
      ],
      "metadata": {
        "id": "6XNPVZ-80RwC"
      }
    }
  ]
}