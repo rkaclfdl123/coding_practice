{
  "nbformat": 4,
  "nbformat_minor": 0,
  "metadata": {
    "colab": {
      "name": "9. Palindrome Number",
      "provenance": [],
      "collapsed_sections": [],
      "authorship_tag": "ABX9TyOBVhyU7hFaLFyMabeLCmMw",
      "include_colab_link": true
    },
    "kernelspec": {
      "name": "python3",
      "display_name": "Python 3"
    },
    "language_info": {
      "name": "python"
    }
  },
  "cells": [
    {
      "cell_type": "markdown",
      "metadata": {
        "id": "view-in-github",
        "colab_type": "text"
      },
      "source": [
        "<a href=\"https://colab.research.google.com/github/rkaclfdl123/coding_practice/blob/main/9_Palindrome_Number.ipynb\" target=\"_parent\"><img src=\"https://colab.research.google.com/assets/colab-badge.svg\" alt=\"Open In Colab\"/></a>"
      ]
    },
    {
      "cell_type": "markdown",
      "source": [
        "Given an integer x, return true if x is palindrome integer.\n",
        "\n",
        "An integer is a palindrome when it reads the same backward as forward.\n",
        "\n",
        "For example, 121 is a palindrome while 123 is not."
      ],
      "metadata": {
        "id": "d8zmc4bNXcvH"
      }
    },
    {
      "cell_type": "markdown",
      "source": [
        "Example 1:\n",
        "\n",
        "Input: x = 121\n",
        "Output: true\n",
        "Explanation: 121 reads as 121 from left to right and from right to left."
      ],
      "metadata": {
        "id": "6aGFgmduXeiv"
      }
    },
    {
      "cell_type": "markdown",
      "source": [
        "Example 2:\n",
        "\n",
        "Input: x = -121\n",
        "Output: false\n",
        "Explanation: From left to right, it reads -121. From right to left, it becomes 121-. Therefore it is not a palindrome."
      ],
      "metadata": {
        "id": "ZF0e1HqEXgKI"
      }
    },
    {
      "cell_type": "markdown",
      "source": [
        "Example 3:\n",
        "\n",
        "Input: x = 10\n",
        "Output: false\n",
        "Explanation: Reads 01 from right to left. Therefore it is not a palindrome."
      ],
      "metadata": {
        "id": "qt5x1LgBXhyF"
      }
    },
    {
      "cell_type": "code",
      "source": [
        "#내 코드\n",
        "class Solution:\n",
        "    def isPalindrome(self, x: int) -> bool:\n",
        "        word=str(x)\n",
        "        if x<0:\n",
        "            return False\n",
        "        \n",
        "        for i in range(len(str(x))):\n",
        "            if word[i]!=list(reversed(word))[i]:\n",
        "                return False\n",
        "        return True\n",
        "            \n",
        "        "
      ],
      "metadata": {
        "id": "Gy8ThTW-Xi8E"
      },
      "execution_count": null,
      "outputs": []
    },
    {
      "cell_type": "code",
      "source": [
        "#다른 사람 코드\n",
        "def solution(x):\n",
        "    if (x<0 or (x!=0 and x%10==0)):\n",
        "        return False\n",
        "    rev = 0;\n",
        "    while(x>rev):\n",
        "    \trev = rev*10 + x%10\n",
        "    \tx = x/10\n",
        "    return (x==rev or x==rev/10)\n",
        "solution()"
      ],
      "metadata": {
        "colab": {
          "base_uri": "https://localhost:8080/"
        },
        "id": "EQ3dF3_fYsYu",
        "outputId": "ffdb79af-e118-4ae9-aad8-4d0c9f9ba85b"
      },
      "execution_count": 23,
      "outputs": [
        {
          "output_type": "execute_result",
          "data": {
            "text/plain": [
              "False"
            ]
          },
          "metadata": {},
          "execution_count": 23
        }
      ]
    },
    {
      "cell_type": "code",
      "source": [
        ""
      ],
      "metadata": {
        "id": "aJKEliOqYsZw"
      },
      "execution_count": null,
      "outputs": []
    }
  ]
}