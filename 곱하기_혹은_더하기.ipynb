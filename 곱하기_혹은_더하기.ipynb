{
  "nbformat": 4,
  "nbformat_minor": 0,
  "metadata": {
    "colab": {
      "name": "곱하기 혹은 더하기.ipynb",
      "provenance": [],
      "authorship_tag": "ABX9TyPM3p0CaQmGLHhLaZLpKXTN",
      "include_colab_link": true
    },
    "kernelspec": {
      "name": "python3",
      "display_name": "Python 3"
    },
    "language_info": {
      "name": "python"
    }
  },
  "cells": [
    {
      "cell_type": "markdown",
      "metadata": {
        "id": "view-in-github",
        "colab_type": "text"
      },
      "source": [
        "<a href=\"https://colab.research.google.com/github/rkaclfdl123/coding_practice/blob/main/%EA%B3%B1%ED%95%98%EA%B8%B0_%ED%98%B9%EC%9D%80_%EB%8D%94%ED%95%98%EA%B8%B0.ipynb\" target=\"_parent\"><img src=\"https://colab.research.google.com/assets/colab-badge.svg\" alt=\"Open In Colab\"/></a>"
      ]
    },
    {
      "cell_type": "code",
      "execution_count": null,
      "metadata": {
        "id": "bQsrRy-RHwo6"
      },
      "outputs": [],
      "source": [
        "'''\n",
        "각자리 숫자 0~9 이루어진 문자열 s\n",
        "왼쪽부터 오른쪽으로 하나씩 모든 숫자를 확인하며 숫자 사이에\n",
        "x 혹은 + 연산자를 넣어 가장 가장 큰 수를 만드시오\n",
        "연산은 상관없이 왼쪽부터 이루어짐\n",
        "'''\n"
      ]
    },
    {
      "cell_type": "code",
      "source": [
        "s1=\"02984\"\n",
        "s2=\"567\"\n"
      ],
      "metadata": {
        "id": "bW_CuRY0IF3M"
      },
      "execution_count": 2,
      "outputs": []
    },
    {
      "cell_type": "code",
      "source": [
        "result=0\n",
        "for i in s1:\n",
        "    if i==\"0\" or result==0:\n",
        "        result+=int(i)\n",
        "        print(result)\n",
        "    else:\n",
        "        number=int(i)\n",
        "        result*=number\n",
        "        print(result)\n",
        "print(result)"
      ],
      "metadata": {
        "colab": {
          "base_uri": "https://localhost:8080/"
        },
        "id": "KFcc53uDIKAr",
        "outputId": "64bd2d58-71be-41fe-eca9-5ae381c895a4"
      },
      "execution_count": 9,
      "outputs": [
        {
          "output_type": "stream",
          "name": "stdout",
          "text": [
            "0\n",
            "2\n",
            "18\n",
            "144\n",
            "576\n",
            "576\n"
          ]
        }
      ]
    },
    {
      "cell_type": "code",
      "source": [
        ""
      ],
      "metadata": {
        "id": "vef6DFu8IsFA"
      },
      "execution_count": null,
      "outputs": []
    }
  ]
}