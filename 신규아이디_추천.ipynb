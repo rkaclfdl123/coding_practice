{
  "nbformat": 4,
  "nbformat_minor": 0,
  "metadata": {
    "colab": {
      "name": "신규아이디 추천.ipynb",
      "provenance": [],
      "authorship_tag": "ABX9TyO+C/gLyrf8+htBF6nUjwIG",
      "include_colab_link": true
    },
    "kernelspec": {
      "name": "python3",
      "display_name": "Python 3"
    },
    "language_info": {
      "name": "python"
    }
  },
  "cells": [
    {
      "cell_type": "markdown",
      "metadata": {
        "id": "view-in-github",
        "colab_type": "text"
      },
      "source": [
        "<a href=\"https://colab.research.google.com/github/rkaclfdl123/coding_practice/blob/main/%EC%8B%A0%EA%B7%9C%EC%95%84%EC%9D%B4%EB%94%94_%EC%B6%94%EC%B2%9C.ipynb\" target=\"_parent\"><img src=\"https://colab.research.google.com/assets/colab-badge.svg\" alt=\"Open In Colab\"/></a>"
      ]
    },
    {
      "cell_type": "code",
      "execution_count": null,
      "metadata": {
        "id": "iJE0SEBgLM62"
      },
      "outputs": [],
      "source": [
        "# 내가 짠 코드\n",
        "# 정규표현식 헷갈려서 봄\n",
        "import re\n",
        "def solution(new_id):\n",
        "    new_id_1=new_id.lower()\n",
        "    \n",
        "    new_id_2=re.sub(\"[^a-z0-9\\-_.]\",\"\",new_id_1)\n",
        "    new_id_3=re.sub(\"\\.+\",'.',new_id_2)\n",
        "    new_id_4=re.sub(\"^[\\.]|[\\.]$\",\"\",new_id_3)\n",
        "\n",
        "    \n",
        "    if len(new_id_4)==0:\n",
        "        new_id_4=new_id_4+\"a\"\n",
        "    if len(new_id_4)<=2:\n",
        "        while(len(new_id_4)!=3):\n",
        "            print(\"-1:\",new_id_4[-1])\n",
        "            new_id_4+=new_id_4[-1]\n",
        "    elif len(new_id_4)>=16:\n",
        "        new_id_4=new_id_4[:15]\n",
        "        while(new_id_4[-1]==\".\"):\n",
        "            new_id_4=new_id_4[:14]\n",
        "\n",
        "    return new_id_4"
      ]
    },
    {
      "cell_type": "markdown",
      "source": [
        "- 처음 글자는 ^[]\n",
        "- 마지막 글자는 []$\n",
        "- or은 안됨 , | 됨, || 됨\n",
        "- . 역슬래쉬 안써도 되는듯??\n",
        "- string은 del이 안되서 :14 :15 이런식으로 했음\n",
        "- 몇문제 오류나서 보니까 단계별로 되어있지만 삭제시에 뒤에 . 이있으면 다시 삭제해야됨 "
      ],
      "metadata": {
        "id": "QXUWC5vyLdhl"
      }
    }
  ]
}