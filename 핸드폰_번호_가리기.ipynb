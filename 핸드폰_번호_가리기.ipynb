{
  "nbformat": 4,
  "nbformat_minor": 0,
  "metadata": {
    "colab": {
      "name": "핸드폰 번호 가리기.ipynb",
      "provenance": [],
      "authorship_tag": "ABX9TyP6hGlqClrM5I+N2/SUWKG0",
      "include_colab_link": true
    },
    "kernelspec": {
      "name": "python3",
      "display_name": "Python 3"
    },
    "language_info": {
      "name": "python"
    }
  },
  "cells": [
    {
      "cell_type": "markdown",
      "metadata": {
        "id": "view-in-github",
        "colab_type": "text"
      },
      "source": [
        "<a href=\"https://colab.research.google.com/github/rkaclfdl123/coding_practice/blob/main/%ED%95%B8%EB%93%9C%ED%8F%B0_%EB%B2%88%ED%98%B8_%EA%B0%80%EB%A6%AC%EA%B8%B0.ipynb\" target=\"_parent\"><img src=\"https://colab.research.google.com/assets/colab-badge.svg\" alt=\"Open In Colab\"/></a>"
      ]
    },
    {
      "cell_type": "markdown",
      "source": [
        "## 문제 설명\n",
        "- 프로그래머스 모바일은 개인정보 보호를 위해 고지서를 보낼 때 고객들의 전화번호의 일부를 가립니다.\n",
        "전화번호가 문자열 phone_number로 주어졌을 때, 전화번호의 뒷 4자리를 제외한 나머지 숫자를 전부 *으로 가린 문자열을 리턴하는 함수, solution을 완성해주세요."
      ],
      "metadata": {
        "id": "PVhD1S_ahzyF"
      }
    },
    {
      "cell_type": "code",
      "execution_count": null,
      "metadata": {
        "id": "0084h9p6hpdB"
      },
      "outputs": [],
      "source": [
        "#내코드\n",
        "def solution(phone_number):\n",
        "    return \"*\"*(len(phone_number)-4)+phone_number[len(phone_number)-4:]"
      ]
    },
    {
      "cell_type": "code",
      "source": [
        "#다른사람 코드\n",
        "def hide_numbers(s):\n",
        "    return \"*\"*(len(s)-4) + s[-4:]\n",
        "\n",
        "# 아래는 테스트로 출력해 보기 위한 코드입니다.\n",
        "print(\"결과 : \" + hide_numbers('01033334444'));\n",
        "\n",
        "\n",
        "#같음"
      ],
      "metadata": {
        "id": "sW5DfbOnjDtB"
      },
      "execution_count": null,
      "outputs": []
    }
  ]
}