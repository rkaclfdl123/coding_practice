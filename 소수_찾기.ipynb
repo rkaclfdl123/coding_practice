{
  "nbformat": 4,
  "nbformat_minor": 0,
  "metadata": {
    "colab": {
      "name": "소수 찾기.ipynb",
      "provenance": [],
      "authorship_tag": "ABX9TyNX9XOi1H2wGc1eXn7+AP/S",
      "include_colab_link": true
    },
    "kernelspec": {
      "name": "python3",
      "display_name": "Python 3"
    },
    "language_info": {
      "name": "python"
    }
  },
  "cells": [
    {
      "cell_type": "markdown",
      "metadata": {
        "id": "view-in-github",
        "colab_type": "text"
      },
      "source": [
        "<a href=\"https://colab.research.google.com/github/rkaclfdl123/coding_practice/blob/main/%EC%86%8C%EC%88%98_%EC%B0%BE%EA%B8%B0.ipynb\" target=\"_parent\"><img src=\"https://colab.research.google.com/assets/colab-badge.svg\" alt=\"Open In Colab\"/></a>"
      ]
    },
    {
      "cell_type": "code",
      "execution_count": 14,
      "metadata": {
        "colab": {
          "base_uri": "https://localhost:8080/"
        },
        "id": "k07bj6S4yxGr",
        "outputId": "0e808039-0971-4715-9bfc-9f9db3b0961c"
      },
      "outputs": [
        {
          "output_type": "stream",
          "name": "stdout",
          "text": [
            "{2, 3, 5, 7, 11, 13, 17, 19}\n"
          ]
        }
      ],
      "source": [
        "#다른사람의 코드\n",
        "def solution(n):\n",
        "    num=set(range(2,n+1))\n",
        "\n",
        "    for i in range(2,n+1):\n",
        "        if i in num:\n",
        "            num-=set(range(i*2,n+1,i))\n",
        "    return len(num)"
      ]
    },
    {
      "cell_type": "code",
      "source": [
        "# 에라토스테네스의 체로 소수 구하기 찾아봄\n",
        "# 1~n까지 의 수를 만들어놓고 \n",
        "#앞에서 부터 숫자에 있으면 그 숫자만 넣고 그 숫자의 배수를 모두 num에서 제거\n",
        "#for 문 3번째 파라미터가 배수인걸 활용하면 됨 (이게 key point)\n",
        "\n",
        "\n",
        "# 다음에 다시 풀어보기"
      ],
      "metadata": {
        "id": "2Unb82aV05yy"
      },
      "execution_count": null,
      "outputs": []
    }
  ]
}