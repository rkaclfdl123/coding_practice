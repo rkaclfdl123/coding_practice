{
  "nbformat": 4,
  "nbformat_minor": 0,
  "metadata": {
    "colab": {
      "name": "실패율.ipynb",
      "provenance": [],
      "authorship_tag": "ABX9TyMJhP+qy+G+dwdFVSNQh7Fk",
      "include_colab_link": true
    },
    "kernelspec": {
      "name": "python3",
      "display_name": "Python 3"
    },
    "language_info": {
      "name": "python"
    }
  },
  "cells": [
    {
      "cell_type": "markdown",
      "metadata": {
        "id": "view-in-github",
        "colab_type": "text"
      },
      "source": [
        "<a href=\"https://colab.research.google.com/github/rkaclfdl123/coding_practice/blob/main/%EC%8B%A4%ED%8C%A8%EC%9C%A8.ipynb\" target=\"_parent\"><img src=\"https://colab.research.google.com/assets/colab-badge.svg\" alt=\"Open In Colab\"/></a>"
      ]
    },
    {
      "cell_type": "markdown",
      "source": [
        ""
      ],
      "metadata": {
        "id": "bZz2n0lu6V3s"
      }
    },
    {
      "cell_type": "code",
      "execution_count": null,
      "metadata": {
        "id": "QTv1mLQM2NKY"
      },
      "outputs": [],
      "source": [
        "import time\n",
        "\n",
        "def solution(N, stages):\n",
        "    result=[]\n",
        "    length_stages=len(stages)\n",
        "    final_result=[]\n",
        "    for i in range(1,N+1):\n",
        "        count_number=stages.count(i)\n",
        "        result.append(count_number/length_stages)\n",
        "        length_stages-=count_number\n",
        "\n",
        "    result_sorted=sorted(result,reverse=True)\n",
        "\n",
        "    for j in result_sorted:\n",
        "        final_result.append(result.index(j)+1)\n",
        "        result[result.index(j)]=2   \n",
        "    return final_result\n",
        "\n",
        "\n",
        "# return 에 lambda를 활용하여 시간 단축하는거 연습해보자\n",
        "# 리스트보단 딕셔너리로 해볼 생각해보자\n",
        "# 중간에 저장없이 바로 할 수 있는 구간이 있으면 적용해보자\n",
        "\n"
      ]
    }
  ]
}