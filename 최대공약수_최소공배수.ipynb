{
  "nbformat": 4,
  "nbformat_minor": 0,
  "metadata": {
    "colab": {
      "name": "최대공약수 최소공배수.ipynb",
      "provenance": [],
      "authorship_tag": "ABX9TyPkOVVabD53AHdrPQcDIK0S",
      "include_colab_link": true
    },
    "kernelspec": {
      "name": "python3",
      "display_name": "Python 3"
    },
    "language_info": {
      "name": "python"
    }
  },
  "cells": [
    {
      "cell_type": "markdown",
      "metadata": {
        "id": "view-in-github",
        "colab_type": "text"
      },
      "source": [
        "<a href=\"https://colab.research.google.com/github/rkaclfdl123/coding_practice/blob/main/%EC%B5%9C%EB%8C%80%EA%B3%B5%EC%95%BD%EC%88%98_%EC%B5%9C%EC%86%8C%EA%B3%B5%EB%B0%B0%EC%88%98.ipynb\" target=\"_parent\"><img src=\"https://colab.research.google.com/assets/colab-badge.svg\" alt=\"Open In Colab\"/></a>"
      ]
    },
    {
      "cell_type": "markdown",
      "source": [
        "## 문제 설명\n",
        "- 두 수를 입력받아 두 수의 최대공약수와 최소공배수를 반환하는 함수, solution을 완성해 보세요. 배열의 맨 앞에 최대공약수, 그다음 최소공배수를 넣어 반환하면 됩니다. \n",
        "<br>\n",
        "예를 들어 두 수 3, 12의 최대공약수는 3, 최소공배수는 12이므로 solution(3, 12)는 [3, 12]를 반환해야 합니다."
      ],
      "metadata": {
        "id": "PVhD1S_ahzyF"
      }
    },
    {
      "cell_type": "code",
      "execution_count": null,
      "metadata": {
        "id": "0084h9p6hpdB"
      },
      "outputs": [],
      "source": [
        "#다른사람 코드(인터넷 찾아봄)\n",
        "def solution(n, m):\n",
        "    result=[]\n",
        "    for i in range(n,0,-1):\n",
        "        if n%i==0 and m%i==0:\n",
        "            result.append(i)\n",
        "            break\n",
        "    for j in range(m,n*m+1):\n",
        "        if j%n==0 and j%m==0:\n",
        "            result.append(j)\n",
        "            break\n",
        "    return result"
      ]
    },
    {
      "cell_type": "code",
      "source": [
        "'''3 12 이면 \n",
        "최대공약수가 아무리 커봤자 3보다 작고\n",
        "최소공배수가 아무리 작아봤자12보다 크다\n",
        "반복문 3에서 밑으로 하나씪 내림\n",
        "반복문 12에서 하나씩 키움\n",
        "'''"
      ],
      "metadata": {
        "id": "xxQB5L92iMR7"
      },
      "execution_count": null,
      "outputs": []
    }
  ]
}