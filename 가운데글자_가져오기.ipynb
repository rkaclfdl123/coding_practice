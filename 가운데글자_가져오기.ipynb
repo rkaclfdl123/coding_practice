{
  "nbformat": 4,
  "nbformat_minor": 0,
  "metadata": {
    "colab": {
      "name": "가운데글자 가져오기.ipynb",
      "provenance": [],
      "authorship_tag": "ABX9TyPFT93lhy9XQ0xC5egCDNvg",
      "include_colab_link": true
    },
    "kernelspec": {
      "name": "python3",
      "display_name": "Python 3"
    },
    "language_info": {
      "name": "python"
    }
  },
  "cells": [
    {
      "cell_type": "markdown",
      "metadata": {
        "id": "view-in-github",
        "colab_type": "text"
      },
      "source": [
        "<a href=\"https://colab.research.google.com/github/rkaclfdl123/coding_practice/blob/main/%EA%B0%80%EC%9A%B4%EB%8D%B0%EA%B8%80%EC%9E%90_%EA%B0%80%EC%A0%B8%EC%98%A4%EA%B8%B0.ipynb\" target=\"_parent\"><img src=\"https://colab.research.google.com/assets/colab-badge.svg\" alt=\"Open In Colab\"/></a>"
      ]
    },
    {
      "cell_type": "code",
      "execution_count": null,
      "metadata": {
        "id": "0emPwb1nTYSs"
      },
      "outputs": [],
      "source": [
        "#내 코드\n",
        "\n",
        "def solution(s):\n",
        "    if len(s)%2==0:\n",
        "        return (s[len(s)//2-1])+(s[len(s)//2])\n",
        "    elif len(s)%2==1:\n",
        "        return (s[len(s)//2])"
      ]
    },
    {
      "cell_type": "code",
      "source": [
        "#다른사람 코드\n",
        "def solution(s):\n",
        "    return s[(len(s)-1)//2:len(s)//2+1]\n",
        "    "
      ],
      "metadata": {
        "id": "0ktcA6B6TfPr"
      },
      "execution_count": null,
      "outputs": []
    },
    {
      "cell_type": "markdown",
      "source": [
        "몫을 이용하여 한줄로 표현\n"
      ],
      "metadata": {
        "id": "Zzpu0oV8UU-u"
      }
    }
  ]
}