{
  "nbformat": 4,
  "nbformat_minor": 0,
  "metadata": {
    "colab": {
      "name": "소수만들기.ipynb",
      "provenance": [],
      "authorship_tag": "ABX9TyMGevOkoa+MK2qWhf1xS+ac",
      "include_colab_link": true
    },
    "kernelspec": {
      "name": "python3",
      "display_name": "Python 3"
    },
    "language_info": {
      "name": "python"
    }
  },
  "cells": [
    {
      "cell_type": "markdown",
      "metadata": {
        "id": "view-in-github",
        "colab_type": "text"
      },
      "source": [
        "<a href=\"https://colab.research.google.com/github/rkaclfdl123/coding_practice/blob/main/%EC%86%8C%EC%88%98%EB%A7%8C%EB%93%A4%EA%B8%B0.ipynb\" target=\"_parent\"><img src=\"https://colab.research.google.com/assets/colab-badge.svg\" alt=\"Open In Colab\"/></a>"
      ]
    },
    {
      "cell_type": "code",
      "execution_count": null,
      "metadata": {
        "id": "ltP9CRTwM892"
      },
      "outputs": [],
      "source": [
        "def prime_number(x):\n",
        "    if x==0 or x==1:\n",
        "        return False\n",
        "    for i in range(2,x):\n",
        "        if x%i==0:\n",
        "            return False\n",
        "    return True\n",
        "def solution(nums):\n",
        "    A=[]\n",
        "    result=0\n",
        "    for i in range(len(nums)):\n",
        "        for j in range(i+1,len(nums)):\n",
        "            for k in range(j+1,len(nums)):\n",
        "                A.append(nums[i]+nums[j]+nums[k])\n",
        "    for i in A:\n",
        "        if prime_number(i)==True:\n",
        "            result+=1\n",
        "    return result\n",
        "            "
      ]
    }
  ]
}