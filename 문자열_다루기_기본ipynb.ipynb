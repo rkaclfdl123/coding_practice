{
  "nbformat": 4,
  "nbformat_minor": 0,
  "metadata": {
    "colab": {
      "name": "문자열 다루기 기본ipynb",
      "provenance": [],
      "authorship_tag": "ABX9TyOp6u+dSjgoqcE4CAaOEjq0",
      "include_colab_link": true
    },
    "kernelspec": {
      "name": "python3",
      "display_name": "Python 3"
    },
    "language_info": {
      "name": "python"
    }
  },
  "cells": [
    {
      "cell_type": "markdown",
      "metadata": {
        "id": "view-in-github",
        "colab_type": "text"
      },
      "source": [
        "<a href=\"https://colab.research.google.com/github/rkaclfdl123/coding_practice/blob/main/%EB%AC%B8%EC%9E%90%EC%97%B4_%EB%8B%A4%EB%A3%A8%EA%B8%B0_%EA%B8%B0%EB%B3%B8ipynb.ipynb\" target=\"_parent\"><img src=\"https://colab.research.google.com/assets/colab-badge.svg\" alt=\"Open In Colab\"/></a>"
      ]
    },
    {
      "cell_type": "code",
      "execution_count": 1,
      "metadata": {
        "id": "p3BjVWjNjA-R"
      },
      "outputs": [],
      "source": [
        "#내 코드\n",
        "def solution(s):\n",
        "    if len(s)==4 or len(s)==6:\n",
        "        pass\n",
        "    else:\n",
        "        return False\n",
        "    return s.isdigit()"
      ]
    },
    {
      "cell_type": "code",
      "source": [
        "#다른사람 코드\n",
        "def alpha_string46(s):\n",
        "    return s.isdigit() and len(s) in (4, 6)"
      ],
      "metadata": {
        "id": "4aEmMMF2jGjt"
      },
      "execution_count": null,
      "outputs": []
    },
    {
      "cell_type": "code",
      "source": [
        "a=\"123\"\n",
        "a.isdigit()"
      ],
      "metadata": {
        "colab": {
          "base_uri": "https://localhost:8080/"
        },
        "id": "NomTfJPBqlqd",
        "outputId": "f61548c1-a86c-43a9-eb8b-32bcf0d552d0"
      },
      "execution_count": 16,
      "outputs": [
        {
          "output_type": "execute_result",
          "data": {
            "text/plain": [
              "True"
            ]
          },
          "metadata": {},
          "execution_count": 16
        }
      ]
    },
    {
      "cell_type": "code",
      "source": [
        "#isdigit() 찾아봤음 문자나 숫자만 찾는게 있다는 건 알았지만 뭔지 몰랐음\n",
        "# 문자열.isdigit()\n",
        "# 문자열.isdigit(\"a\")\n",
        "#방법이 있음\n"
      ],
      "metadata": {
        "id": "piPLuneSjNfm"
      },
      "execution_count": 17,
      "outputs": []
    }
  ]
}