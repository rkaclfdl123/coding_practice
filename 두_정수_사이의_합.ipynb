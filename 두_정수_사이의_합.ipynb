{
  "nbformat": 4,
  "nbformat_minor": 0,
  "metadata": {
    "colab": {
      "name": "두 정수 사이의 합.ipynb",
      "provenance": [],
      "authorship_tag": "ABX9TyPXt5rlDBOB17BsaypEL8TD",
      "include_colab_link": true
    },
    "kernelspec": {
      "name": "python3",
      "display_name": "Python 3"
    },
    "language_info": {
      "name": "python"
    }
  },
  "cells": [
    {
      "cell_type": "markdown",
      "metadata": {
        "id": "view-in-github",
        "colab_type": "text"
      },
      "source": [
        "<a href=\"https://colab.research.google.com/github/rkaclfdl123/coding_practice/blob/main/%EB%91%90_%EC%A0%95%EC%88%98_%EC%82%AC%EC%9D%B4%EC%9D%98_%ED%95%A9.ipynb\" target=\"_parent\"><img src=\"https://colab.research.google.com/assets/colab-badge.svg\" alt=\"Open In Colab\"/></a>"
      ]
    },
    {
      "cell_type": "code",
      "execution_count": 1,
      "metadata": {
        "id": "p3BjVWjNjA-R"
      },
      "outputs": [],
      "source": [
        "#내 코드\n",
        "def solution(a, b):\n",
        "    if a>b:\n",
        "        a,b=b,a\n",
        "    return sum(range(a,b+1))"
      ]
    },
    {
      "cell_type": "code",
      "source": [
        "#다른사람 코드\n",
        "def adder(a, b):\n",
        "    if a > b: a, b = b, a\n",
        "    return sum(range(a,b+1))"
      ],
      "metadata": {
        "id": "4aEmMMF2jGjt"
      },
      "execution_count": null,
      "outputs": []
    },
    {
      "cell_type": "code",
      "source": [
        "# 똑같음"
      ],
      "metadata": {
        "id": "piPLuneSjNfm"
      },
      "execution_count": null,
      "outputs": []
    }
  ]
}