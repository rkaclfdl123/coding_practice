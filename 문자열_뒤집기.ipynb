{
  "nbformat": 4,
  "nbformat_minor": 0,
  "metadata": {
    "colab": {
      "name": "문자열 뒤집기.ipynb",
      "provenance": [],
      "authorship_tag": "ABX9TyMwC07OgVBnk2YKaHRSTZ4U",
      "include_colab_link": true
    },
    "kernelspec": {
      "name": "python3",
      "display_name": "Python 3"
    },
    "language_info": {
      "name": "python"
    }
  },
  "cells": [
    {
      "cell_type": "markdown",
      "metadata": {
        "id": "view-in-github",
        "colab_type": "text"
      },
      "source": [
        "<a href=\"https://colab.research.google.com/github/rkaclfdl123/coding_practice/blob/main/%EB%AC%B8%EC%9E%90%EC%97%B4_%EB%92%A4%EC%A7%91%EA%B8%B0.ipynb\" target=\"_parent\"><img src=\"https://colab.research.google.com/assets/colab-badge.svg\" alt=\"Open In Colab\"/></a>"
      ]
    },
    {
      "cell_type": "code",
      "source": [
        "'''\n",
        "다솜이는 0 과 1 로 이루어진 문자열 s를 가지고 있습니다.\n",
        "다솜이는 이 문자열 s에 있는 모든 숫자를 전부 같게 만드려고합니다.\n",
        "다솜이가 할 수 있는 행동은 s에서 연속된 하나 이상의 숫자를 잡고 모두 뒤집는 것입니다.\n",
        "뒤집는 것은 1을 0 으로 0을 1로 바꾸는 것을 의미합니다.\n",
        "예를 들어 s=0001100일때는 다음과 같습니다.\n",
        "\n",
        "\n",
        "1. 전체를 뒤집으면 110011 입니다.\n",
        "2. 4번째 문자부터 5번째 문자까지 뒤집으면 1111111입니다\n",
        "\n",
        "행동의 최소 횟수를 출력하세요.\n",
        "'''\n"
      ],
      "metadata": {
        "colab": {
          "base_uri": "https://localhost:8080/",
          "height": 105
        },
        "id": "4quWSFL4JRKl",
        "outputId": "e2c4b627-60e8-49c2-807e-b1f4274a808e"
      },
      "execution_count": 11,
      "outputs": [
        {
          "output_type": "execute_result",
          "data": {
            "application/vnd.google.colaboratory.intrinsic+json": {
              "type": "string"
            },
            "text/plain": [
              "'\\n다솜이는 0 과 1 로 이루어진 문자열 s를 가지고 있습니다.\\n다솜이는 이 문자열 s에 있는 모든 숫자를 전부 같게 만드려고합니다.\\n다솜이가 할 수 있는 행동은 s에서 연속된 하나 이상의 숫자를 잡고 모두 뒤집는 것입니다.\\n뒤집는 것은 1을 0 으로 0을 1로 바꾸는 것을 의미합니다.\\n예를 들어 s=0001100일때는 다음과 같습니다.\\n\\n\\n1. 전체를 뒤집으면 110011 입니다.\\n2. 4번째 문자부터 5번째 문자까지 뒤집으면 1111111입니다\\n\\n행동의 최소 횟수를 출력하세요.\\n'"
            ]
          },
          "metadata": {},
          "execution_count": 11
        }
      ]
    },
    {
      "cell_type": "code",
      "source": [
        "s1=\"1111001010110101010101\"\n",
        "hol=0\n",
        "jjak=0\n",
        "result=[1]\n",
        "for i in range(len(s1)-1):\n",
        "    if s1[i]==s1[i+1]:\n",
        "        continue\n",
        "    else:\n",
        "        result.append(1)\n",
        "for i in range(1,len(result),2):\n",
        "    hol+=result[i]\n",
        "for i in range(0,len(result),2):\n",
        "    jjak+=result[i]\n",
        "print(hol,jjak)\n",
        "print(min(hol,jjak))"
      ],
      "metadata": {
        "colab": {
          "base_uri": "https://localhost:8080/"
        },
        "id": "na0tIevQKtWi",
        "outputId": "6b740fbb-aad3-4b23-f17d-e8e156a7eaf8"
      },
      "execution_count": 25,
      "outputs": [
        {
          "output_type": "stream",
          "name": "stdout",
          "text": [
            "8 9\n",
            "8\n"
          ]
        }
      ]
    },
    {
      "cell_type": "code",
      "source": [
        ""
      ],
      "metadata": {
        "id": "-9YyUQMiLLWS"
      },
      "execution_count": 13,
      "outputs": []
    }
  ]
}