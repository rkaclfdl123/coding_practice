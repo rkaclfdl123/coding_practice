{
  "nbformat": 4,
  "nbformat_minor": 0,
  "metadata": {
    "colab": {
      "name": "K번째수.ipynb",
      "provenance": [],
      "authorship_tag": "ABX9TyNPoeNcihpmfWnPHx1yb5a8",
      "include_colab_link": true
    },
    "kernelspec": {
      "name": "python3",
      "display_name": "Python 3"
    },
    "language_info": {
      "name": "python"
    }
  },
  "cells": [
    {
      "cell_type": "markdown",
      "metadata": {
        "id": "view-in-github",
        "colab_type": "text"
      },
      "source": [
        "<a href=\"https://colab.research.google.com/github/rkaclfdl123/coding_practice/blob/main/K%EB%B2%88%EC%A7%B8%EC%88%98.ipynb\" target=\"_parent\"><img src=\"https://colab.research.google.com/assets/colab-badge.svg\" alt=\"Open In Colab\"/></a>"
      ]
    },
    {
      "cell_type": "code",
      "execution_count": 8,
      "metadata": {
        "colab": {
          "base_uri": "https://localhost:8080/"
        },
        "id": "D59z2gZYNcpw",
        "outputId": "c49dcd8c-681e-4d34-9fcf-c5e59561b579"
      },
      "outputs": [
        {
          "output_type": "stream",
          "name": "stdout",
          "text": [
            "result: [2, 3, 5, 6]\n",
            "result: [6]\n",
            "result: [1, 2, 3, 4, 5, 6, 7]\n",
            "[5, 6, 3]\n"
          ]
        }
      ],
      "source": [
        "\n",
        "result_list=[]\n",
        "array=[1,5,2,6,3,7,4]\n",
        "commands=[[2, 5, 3], [4, 4, 1], [1, 7, 3]]\n",
        "for i in commands:\n",
        "    result=array[i[0]-1:i[1]]\n",
        "    result=sorted(result)\n",
        "    print(\"result:\",result)\n",
        "    result_list.append(result[i[2]-1])\n",
        "\n",
        "print(result_list)"
      ]
    },
    {
      "cell_type": "code",
      "source": [
        ""
      ],
      "metadata": {
        "id": "1ep6ej1OONCm"
      },
      "execution_count": null,
      "outputs": []
    }
  ]
}