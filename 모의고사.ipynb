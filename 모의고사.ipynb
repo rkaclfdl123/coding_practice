{
  "nbformat": 4,
  "nbformat_minor": 0,
  "metadata": {
    "colab": {
      "name": "모의고사.ipynb",
      "provenance": [],
      "authorship_tag": "ABX9TyNsXLxcbJMDMg/qIwfx3LtU",
      "include_colab_link": true
    },
    "kernelspec": {
      "name": "python3",
      "display_name": "Python 3"
    },
    "language_info": {
      "name": "python"
    }
  },
  "cells": [
    {
      "cell_type": "markdown",
      "metadata": {
        "id": "view-in-github",
        "colab_type": "text"
      },
      "source": [
        "<a href=\"https://colab.research.google.com/github/rkaclfdl123/coding_practice/blob/main/%EB%AA%A8%EC%9D%98%EA%B3%A0%EC%82%AC.ipynb\" target=\"_parent\"><img src=\"https://colab.research.google.com/assets/colab-badge.svg\" alt=\"Open In Colab\"/></a>"
      ]
    },
    {
      "cell_type": "code",
      "source": [
        "# 내 코드 (효율성 떨어짐)\n",
        "def solution(answers):    \n",
        "    answer=[0,0,0]\n",
        "    number_1=[1,2,3,4,5]\n",
        "    number_2=[2,1,2,3,2,4,2,5]\n",
        "    number_3=[3,3,1,1,2,2,4,4,5,5]\n",
        "\n",
        "    result=[]\n",
        "    for i in range(len(answers)):\n",
        "        if number_1[i]==answers[i]:\n",
        "            answer[0]+=1\n",
        "        if number_2[i]==answers[i]:\n",
        "            answer[1]+=1\n",
        "        if number_3[i]==answers[i]:\n",
        "            answer[2]+=1\n",
        "\n",
        "    for idx, s in enumerate(answer):\n",
        "        if s == max(answer):\n",
        "            result.append(idx+1)\n",
        "\n",
        "    return result"
      ],
      "metadata": {
        "id": "I3QRj3JhigbR"
      },
      "execution_count": null,
      "outputs": []
    },
    {
      "cell_type": "code",
      "execution_count": 4,
      "metadata": {
        "id": "RaCwukxuX95D"
      },
      "outputs": [],
      "source": [
        "#다른사람 코드\n",
        "\n",
        "def solution(answers):\n",
        "    pattern1 = [1,2,3,4,5]\n",
        "    pattern2 = [2,1,2,3,2,4,2,5]\n",
        "    pattern3 = [3,3,1,1,2,2,4,4,5,5]\n",
        "    score = [0, 0, 0]\n",
        "    result = []\n",
        "\n",
        "    for idx, answer in enumerate(answers):\n",
        "        print(\"idx:\", idx,\"answer:\", answer)\n",
        "        if answer == pattern1[idx%len(pattern1)]:\n",
        "            score[0] += 1\n",
        "        if answer == pattern2[idx%len(pattern2)]:\n",
        "            score[1] += 1\n",
        "        if answer == pattern3[idx%len(pattern3)]:\n",
        "            score[2] += 1\n",
        "\n",
        "    for idx, s in enumerate(score):\n",
        "        if s == max(score):\n",
        "            result.append(idx+1)\n",
        "\n",
        "    return result\n",
        "\n",
        "    "
      ]
    },
    {
      "cell_type": "markdown",
      "source": [
        "- for range, for list 를 enumerate 로 써야할듯 \n",
        "- enumerate 는 이둘을 합친 것\n",
        "- % 나머지인 것은 알았으나 0 % 7 이 7인줄 알고 착각함.."
      ],
      "metadata": {
        "id": "dPOFrw1-ip3d"
      }
    }
  ]
}